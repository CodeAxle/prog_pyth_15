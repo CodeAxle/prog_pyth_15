{
 "cells": [
  {
   "cell_type": "markdown",
   "id": "064739d7",
   "metadata": {},
   "source": [
    "# 1."
   ]
  },
  {
   "cell_type": "code",
   "execution_count": 3,
   "id": "82e0ede2",
   "metadata": {},
   "outputs": [
    {
     "name": "stdout",
     "output_type": "stream",
     "text": [
      "Enter a number (n): 35\n",
      "0,35\n"
     ]
    }
   ],
   "source": [
    "# code:\n",
    "def divisible_by_5_and_7(n):\n",
    "    for num in range(n + 1):\n",
    "        if num % 5 == 0 and num % 7 == 0:\n",
    "            yield num\n",
    "\n",
    "# Get user input for n\n",
    "n = int(input(\"Enter a number (n): \"))\n",
    "\n",
    "# Generate the numbers divisible by 5 and 7\n",
    "result = list(divisible_by_5_and_7(n))\n",
    "\n",
    "# Print the result in comma-separated form\n",
    "print(','.join(map(str, result)))"
   ]
  },
  {
   "cell_type": "markdown",
   "id": "1fcce3e0",
   "metadata": {},
   "source": [
    "# 2."
   ]
  },
  {
   "cell_type": "code",
   "execution_count": 4,
   "id": "5d623187",
   "metadata": {},
   "outputs": [
    {
     "name": "stdout",
     "output_type": "stream",
     "text": [
      "Enter a number (n): 10\n",
      "0,2,4,6,8,10\n"
     ]
    }
   ],
   "source": [
    "# code:\n",
    "def even_numbers(n):\n",
    "    for num in range(n + 1):\n",
    "        if num % 2 == 0:\n",
    "            yield num\n",
    "\n",
    "# Get user input for n\n",
    "n = int(input(\"Enter a number (n): \"))\n",
    "\n",
    "# Generate the even numbers\n",
    "result = list(even_numbers(n))\n",
    "\n",
    "# Print the result in comma-separated form\n",
    "print(','.join(map(str, result)))"
   ]
  },
  {
   "cell_type": "markdown",
   "id": "b9fb5ec5",
   "metadata": {},
   "source": [
    "# 3."
   ]
  },
  {
   "cell_type": "code",
   "execution_count": 5,
   "id": "14a7046c",
   "metadata": {},
   "outputs": [
    {
     "name": "stdout",
     "output_type": "stream",
     "text": [
      "Enter a number (n): 10\n",
      "0,1,1,2,3,5,8,13,21,34,55\n"
     ]
    }
   ],
   "source": [
    "# code:\n",
    "def fibonacci(n):\n",
    "    fib = [0, 1]\n",
    "    [fib.append(fib[-1] + fib[-2]) for _ in range(2, n+1)]\n",
    "    return fib[:n+1]\n",
    "\n",
    "# Get user input for n\n",
    "n = int(input(\"Enter a number (n): \"))\n",
    "\n",
    "# Generate the Fibonacci sequence\n",
    "fib_sequence = fibonacci(n)\n",
    "\n",
    "# Print the sequence in comma-separated form\n",
    "print(','.join(map(str, fib_sequence)))"
   ]
  },
  {
   "cell_type": "markdown",
   "id": "a15840d9",
   "metadata": {},
   "source": [
    "# 4."
   ]
  },
  {
   "cell_type": "code",
   "execution_count": 6,
   "id": "c71b0113",
   "metadata": {},
   "outputs": [
    {
     "name": "stdout",
     "output_type": "stream",
     "text": [
      "Enter an email address: jhondoe@hotmail.com\n",
      "jhondoe\n"
     ]
    }
   ],
   "source": [
    "# code:\n",
    "def extract_username(email):\n",
    "    # Split the email address by '@' to separate the username and domain\n",
    "    parts = email.split('@')\n",
    "    \n",
    "    # Return the first part, which is the username\n",
    "    return parts[0]\n",
    "\n",
    "# Get user input for the email address\n",
    "email = input(\"Enter an email address: \")\n",
    "\n",
    "# Extract the username\n",
    "username = extract_username(email)\n",
    "\n",
    "# Print the username\n",
    "print(username)"
   ]
  },
  {
   "cell_type": "markdown",
   "id": "dc8326da",
   "metadata": {},
   "source": [
    "# 5."
   ]
  },
  {
   "cell_type": "code",
   "execution_count": 7,
   "id": "4734c314",
   "metadata": {},
   "outputs": [
    {
     "name": "stdout",
     "output_type": "stream",
     "text": [
      "Area of the square: 25\n"
     ]
    }
   ],
   "source": [
    "# code:\n",
    "class Shape:\n",
    "    def __init__(self):\n",
    "        pass\n",
    "    \n",
    "    def area(self):\n",
    "        return 0\n",
    "\n",
    "class Square(Shape):\n",
    "    def __init__(self, length):\n",
    "        super().__init__()\n",
    "        self.length = length\n",
    "    \n",
    "    def area(self):\n",
    "        # Area of a square is side length squared\n",
    "        return self.length * self.length\n",
    "\n",
    "# Create a Square object with length 5\n",
    "square = Square(5)\n",
    "\n",
    "# Calculate and print the area\n",
    "print(\"Area of the square:\", square.area())"
   ]
  },
  {
   "cell_type": "code",
   "execution_count": null,
   "id": "d379164b",
   "metadata": {},
   "outputs": [],
   "source": []
  }
 ],
 "metadata": {
  "kernelspec": {
   "display_name": "Python 3 (ipykernel)",
   "language": "python",
   "name": "python3"
  },
  "language_info": {
   "codemirror_mode": {
    "name": "ipython",
    "version": 3
   },
   "file_extension": ".py",
   "mimetype": "text/x-python",
   "name": "python",
   "nbconvert_exporter": "python",
   "pygments_lexer": "ipython3",
   "version": "3.11.5"
  }
 },
 "nbformat": 4,
 "nbformat_minor": 5
}
